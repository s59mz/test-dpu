{
 "cells": [
  {
   "cell_type": "code",
   "execution_count": 1,
   "id": "ccb3e434",
   "metadata": {},
   "outputs": [],
   "source": [
    "import numpy as np\n",
    "import h5py as h5\n",
    "import random\n",
    "import matplotlib.pyplot as plt"
   ]
  },
  {
   "cell_type": "code",
   "execution_count": 3,
   "id": "7a6e9d65",
   "metadata": {},
   "outputs": [],
   "source": [
    "input_file = '2018.01/GOLD_XYZ_OSC.0001_1024.hdf5'\n",
    "output_file = '2018.01/reduced_10p_XYZ.hdf5'"
   ]
  },
  {
   "cell_type": "code",
   "execution_count": 47,
   "id": "5a23e869",
   "metadata": {},
   "outputs": [],
   "source": [
    "fd = h5.File(input_file,'r')\n",
    "\n",
    "# Samples: Max 4096 per each snr per modulation\n",
    "samples = 512\n",
    "    \n",
    "# snr: 26\n",
    "# [-20, -18, -16, -14, -12, -10, -8, -6, -4, -2, 0, 2, 4, 6, 8, 10, 12, 14, 16, 18, 20, 22, 24, 26, 28, 30]\n",
    "\n",
    "'''\n",
    "Modulations: 24, each contains 26*4096=106496 samples\n",
    "mods = [\n",
    "    'OOK',      '4ASK',      '8ASK',      'BPSK',   'QPSK',    '8PSK',\n",
    "    '16PSK',    '32PSK',     '16APSK',    '32APSK', '64APSK',  '128APSK',\n",
    "    '16QAM',    '32QAM',     '64QAM',     '128QAM', '256QAM',  \n",
    "    'AM-SSB-WC','AM-SSB-SC', 'AM-DSB-WC', 'AM-DSB-SC', 'FM', 'GMSK','OQPSK']\n",
    "'''\n",
    "\n",
    "myData = fd['X'][0:1]  #1024x2 samples 106496 per mod\n",
    "myMods = fd['Y'][0:1]  #mods 24\n",
    "mySNRs = fd['Z'][0:1]  #snrs 26 x 4096 per snr\n",
    "\n",
    "for modulation in range(0, 24):\n",
    "    for snr in range(13, 26):\n",
    "        index = modulation * (26*4096) + snr * 4096\n",
    "\n",
    "        myData = np.append(myData, fd['X'][index:index + samples], axis=0)\n",
    "        myMods = np.append(myMods, fd['Y'][index:index + samples], axis=0)\n",
    "        mySNRs = np.append(mySNRs, fd['Z'][index:index + samples], axis=0)\n",
    "\n",
    "myData = np.delete(myData, 0, axis=0)\n",
    "myMods = np.delete(myMods, 0, axis=0)\n",
    "mySNRs = np.delete(mySNRs, 0, axis=0)\n",
    "            \n",
    "fd.close()"
   ]
  },
  {
   "cell_type": "code",
   "execution_count": 48,
   "id": "c978d6ac",
   "metadata": {},
   "outputs": [
    {
     "name": "stdout",
     "output_type": "stream",
     "text": [
      "(159744, 1024, 2)\n",
      "(159744, 24)\n",
      "(159744, 1)\n"
     ]
    }
   ],
   "source": [
    "print(np.shape(myData))\n",
    "print(np.shape(myMods))\n",
    "print(np.shape(mySNRs))"
   ]
  },
  {
   "cell_type": "code",
   "execution_count": 54,
   "id": "e63e53e5",
   "metadata": {},
   "outputs": [],
   "source": [
    "# create new hdf5 file and save extracted data\n",
    "fd = h5.File(output_file, 'w')\n",
    "\n",
    "fd.create_dataset('X', data=myData)\n",
    "fd.create_dataset('Y', data=myMods)\n",
    "fd.create_dataset('Z', data=mySNRs)\n",
    "\n",
    "fd.close()"
   ]
  },
  {
   "cell_type": "code",
   "execution_count": 52,
   "id": "f8975405",
   "metadata": {},
   "outputs": [
    {
     "name": "stdout",
     "output_type": "stream",
     "text": [
      "[8]\n"
     ]
    }
   ],
   "source": [
    "print(mySNRs[512])"
   ]
  },
  {
   "cell_type": "code",
   "execution_count": 56,
   "id": "19e5657a",
   "metadata": {},
   "outputs": [
    {
     "name": "stdout",
     "output_type": "stream",
     "text": [
      "[0 1 0 0 0 0 0 0 0 0 0 0 0 0 0 0 0 0 0 0 0 0 0 0]\n"
     ]
    }
   ],
   "source": [
    "print(myMods[13*512])"
   ]
  },
  {
   "cell_type": "code",
   "execution_count": null,
   "id": "4d315a72",
   "metadata": {},
   "outputs": [],
   "source": []
  }
 ],
 "metadata": {
  "kernelspec": {
   "display_name": "Python 3 (ipykernel)",
   "language": "python",
   "name": "python3"
  },
  "language_info": {
   "codemirror_mode": {
    "name": "ipython",
    "version": 3
   },
   "file_extension": ".py",
   "mimetype": "text/x-python",
   "name": "python",
   "nbconvert_exporter": "python",
   "pygments_lexer": "ipython3",
   "version": "3.7.10"
  }
 },
 "nbformat": 4,
 "nbformat_minor": 5
}
