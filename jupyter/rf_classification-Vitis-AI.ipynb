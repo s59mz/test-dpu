{
 "cells": [
  {
   "cell_type": "markdown",
   "metadata": {
    "id": "-2oFeWXltnxb"
   },
   "source": [
    "## RF Modulation Recognition with Vitis-AI - Part-2\n",
    "\n",
    "This is a modified scrpit, prepaired to run on the Google Colab with a reduced RF Dataset to 6% only.\n",
    "\n",
    "Original project is located on the Xilinx GitHub repository:\n",
    "\n",
    "https://github.com/Xilinx/Vitis-AI-Tutorials/tree/master/Design_Tutorials/10-RF_modulation_recognition\n",
    "\n",
    "\n",
    "The reduced RF Dataset is located on my shared folder on the Google Drive.\n",
    "\n",
    "\n",
    "###Run this script on the Host Computer in the Vitis-AI Docker.\n",
    "\n",
    "\n",
    "At the end copy the compiled 'rfClassification.xmodel' to your FPGA board."
   ]
  },
  {
   "cell_type": "markdown",
   "metadata": {
    "id": "YA5KFFeq8_PJ"
   },
   "source": [
    "## Install Packages"
   ]
  },
  {
   "cell_type": "code",
   "execution_count": 1,
   "metadata": {
    "colab": {
     "base_uri": "https://localhost:8080/"
    },
    "executionInfo": {
     "elapsed": 3047,
     "status": "ok",
     "timestamp": 1647973476859,
     "user": {
      "displayName": "Matjaz Zibert",
      "photoUrl": "https://lh3.googleusercontent.com/a-/AOh14Gjxo8wQa943D739AYiNxos4RgExuqUIJbw1QcbN=s64",
      "userId": "01767470950860479027"
     },
     "user_tz": -60
    },
    "id": "UQW00mw3ymJX",
    "outputId": "420fc258-1a13-4d6b-d6a7-9c0e49628bc8",
    "scrolled": false
   },
   "outputs": [
    {
     "name": "stderr",
     "output_type": "stream",
     "text": [
      "2022-03-22 17:07:39.964255: W tensorflow/stream_executor/platform/default/dso_loader.cc:64] Could not load dynamic library 'libcudart.so.11.0'; dlerror: libcudart.so.11.0: cannot open shared object file: No such file or directory; LD_LIBRARY_PATH: /opt/xilinx/xrt/lib:/usr/lib:/usr/lib/x86_64-linux-gnu:/usr/local/lib:/opt/vitis_ai/conda/envs/vitis-ai-tensorflow/lib\n",
      "2022-03-22 17:07:39.964283: I tensorflow/stream_executor/cuda/cudart_stub.cc:29] Ignore above cudart dlerror if you do not have a GPU set up on your machine.\n"
     ]
    },
    {
     "name": "stdout",
     "output_type": "stream",
     "text": [
      "Tensorflow version is  2.6.0\n",
      "Keras version      :  2.6.0\n"
     ]
    }
   ],
   "source": [
    "from __future__ import absolute_import, division, print_function, unicode_literals\n",
    "import tensorflow as tf\n",
    "from tensorflow import keras\n",
    "from tensorflow import Tensor\n",
    "print(\"Tensorflow version is \", tf.__version__)\n",
    "print('Keras version      : ',keras.__version__)\n",
    "import numpy as np\n",
    "import os, sys\n",
    "import cv2\n",
    "import matplotlib.pyplot as plt\n",
    "import matplotlib.image as mpimg\n",
    "import pandas as pd\n",
    "import h5py as h5\n",
    "from sklearn.metrics import classification_report, confusion_matrix\n",
    "import random\n",
    "import time\n",
    "from tensorflow.keras.models import Model, load_model\n",
    "from tensorflow.keras.layers import Conv2D, MaxPooling2D, Input, Conv2DTranspose, Concatenate, BatchNormalization, UpSampling2D\n",
    "from tensorflow.keras.layers import  Dropout, Activation, GlobalAveragePooling1D, ZeroPadding2D, GlobalAveragePooling2D\n",
    "from tensorflow.keras.optimizers import Adam, SGD, Adadelta\n",
    "from tensorflow.keras.layers import Reshape, Dense, Flatten, Add\n",
    "from tensorflow.keras.activations import relu\n",
    "from tensorflow.keras.callbacks import ModelCheckpoint, ReduceLROnPlateau, EarlyStopping, History\n",
    "from tensorflow.keras import backend as K\n",
    "from tensorflow.keras.utils import plot_model\n",
    "from random import shuffle\n",
    "import glob\n",
    "from sklearn.model_selection import train_test_split\n",
    "from pathlib import Path\n",
    "import pickle\n",
    "from progressbar import ProgressBar\n",
    "import matplotlib.pyplot as plt"
   ]
  },
  {
   "cell_type": "markdown",
   "metadata": {
    "id": "QEwdbt6MBcjS"
   },
   "source": [
    "## Download the reduced 2018.01 Dataset \n",
    "It has only 6.25% of original data. The file size is about 1.25 GB. Enough to test the model on DPU of the FPGA.\n",
    "\n",
    "If you need a more accurate model, then use the original dataset. You need at least 20 GB of free disk space just for download.\n",
    "\n",
    "Only 512 samples per SNR, only upper 12 SNRs are included in the reduced dataset.\n"
   ]
  },
  {
   "cell_type": "code",
   "execution_count": 2,
   "metadata": {
    "colab": {
     "base_uri": "https://localhost:8080/"
    },
    "executionInfo": {
     "elapsed": 15068,
     "status": "ok",
     "timestamp": 1647973160126,
     "user": {
      "displayName": "Matjaz Zibert",
      "photoUrl": "https://lh3.googleusercontent.com/a-/AOh14Gjxo8wQa943D739AYiNxos4RgExuqUIJbw1QcbN=s64",
      "userId": "01767470950860479027"
     },
     "user_tz": -60
    },
    "id": "kqhq1rQs1Sqo",
    "outputId": "49a06804-c69a-4428-be80-64c83342324a"
   },
   "outputs": [],
   "source": [
    "# FILENAME = reduced_rf_dataset_XYZ.hdf5\n",
    "# FILEID = 1O_pmhLc7t3W4ehsFFUfYOaZsvyEmNVkn\n",
    "\n",
    "# wget --load-cookies /tmp/cookies.txt \"https://docs.google.com/uc?export=download&confirm=$(wget --quiet --save-cookies /tmp/cookies.txt --keep-session-cookies --no-check-certificate 'https://docs.google.com/uc?export=download&id=FILEID' -O- | sed -rn 's/.*confirm=([0-9A-Za-z_]+).*/\\1\\n/p')&id=FILEID\" -O FILENAME && rm -rf /tmp/cookies.txt\n",
    "\n",
    "!wget --load-cookies /tmp/cookies.txt \"https://docs.google.com/uc?export=download&confirm=$(wget --quiet --save-cookies /tmp/cookies.txt --keep-session-cookies --no-check-certificate 'https://docs.google.com/uc?export=download&id=1O_pmhLc7t3W4ehsFFUfYOaZsvyEmNVkn' -O- | sed -rn 's/.*confirm=([0-9A-Za-z_]+).*/\\1\\n/p')&id=1O_pmhLc7t3W4ehsFFUfYOaZsvyEmNVkn\" -O reduced_rf_dataset_XYZ.hdf5 && rm -rf /tmp/cookies.txt\n"
   ]
  },
  {
   "cell_type": "code",
   "execution_count": 3,
   "metadata": {
    "colab": {
     "base_uri": "https://localhost:8080/"
    },
    "executionInfo": {
     "elapsed": 249,
     "status": "ok",
     "timestamp": 1647975228598,
     "user": {
      "displayName": "Matjaz Zibert",
      "photoUrl": "https://lh3.googleusercontent.com/a-/AOh14Gjxo8wQa943D739AYiNxos4RgExuqUIJbw1QcbN=s64",
      "userId": "01767470950860479027"
     },
     "user_tz": -60
    },
    "id": "TFen2ML3xkUc",
    "outputId": "95a42b66-2541-43ab-ed40-563612d337d6"
   },
   "outputs": [
    {
     "name": "stdout",
     "output_type": "stream",
     "text": [
      "total 1309168\r\n",
      "-rw-rw-r-- 1 vitis-ai-user vitis-ai-group         36 Mar 22 16:58 arch_b1152.json\r\n",
      "drwxrwxr-x 2 vitis-ai-user vitis-ai-group       4096 Mar 22 16:46 fp_model\r\n",
      "-rw-r--r-- 1 vitis-ai-user vitis-ai-group 1340573696 Mar 22 16:44 reduced_rf_dataset_XYZ.hdf5\r\n"
     ]
    }
   ],
   "source": [
    "!ls -l"
   ]
  },
  {
   "cell_type": "markdown",
   "metadata": {
    "id": "46uELugqymJa"
   },
   "source": [
    "## 2018 Dataset "
   ]
  },
  {
   "cell_type": "markdown",
   "metadata": {
    "id": "DSNV8sku8_PU"
   },
   "source": [
    "### Read in RF Data\n",
    "3 Arrays will be created. <br>\n",
    "myData holds the 1024 I and Q time values for each input sample. <br>\n",
    "myMods holds the one hot encoded RF class for each sample.<br>\n",
    "mySNRs holds the SNR value for each sample.<br>\n",
    "\n"
   ]
  },
  {
   "cell_type": "code",
   "execution_count": 4,
   "metadata": {
    "id": "Adeih-_lymJa"
   },
   "outputs": [],
   "source": [
    "#Note this is needed to aviod a tensorFlow memory issue\n",
    "os.environ['TF_FORCE_CPU_ALLOW_GROWTH'] = 'true'"
   ]
  },
  {
   "cell_type": "code",
   "execution_count": 5,
   "metadata": {
    "colab": {
     "base_uri": "https://localhost:8080/"
    },
    "executionInfo": {
     "elapsed": 782,
     "status": "ok",
     "timestamp": 1647975236225,
     "user": {
      "displayName": "Matjaz Zibert",
      "photoUrl": "https://lh3.googleusercontent.com/a-/AOh14Gjxo8wQa943D739AYiNxos4RgExuqUIJbw1QcbN=s64",
      "userId": "01767470950860479027"
     },
     "user_tz": -60
    },
    "id": "VYj5HuQr8_PW",
    "outputId": "7438edf3-9f8c-4a26-d9b3-06b128b0fc59",
    "scrolled": true
   },
   "outputs": [
    {
     "name": "stdout",
     "output_type": "stream",
     "text": [
      "(159744, 1024, 2)\n",
      "(159744, 24)\n",
      "(159744, 1)\n"
     ]
    }
   ],
   "source": [
    "# original dataset -     4096 frames per 26 SNR per 24 modulations\n",
    "# reduced dataset  - only 512 framer per 13 SNR per 24 modulations\n",
    "\n",
    "# one frame has 1024 x 2 I/Q samples\n",
    "\n",
    "# data_file = '2018.01/GOLD_XYZ_OSC.0001_1024.hdf5'  # original dataset\n",
    "data_file = 'reduced_rf_dataset_XYZ.hdf5'\n",
    "file_handle = h5.File(data_file,'r+')\n",
    "\n",
    "myData = file_handle['X'][:]  # 159744 IQ samples - 512 per 13 SNR x 24 modulations\n",
    "myMods = file_handle['Y'][:]  # modulations = 24, one-hot encoding\n",
    "mySNRs = file_handle['Z'][:]  # SNRs 26 x 4096 per snr\n",
    "\n",
    "file_handle.close()\n",
    "\n",
    "print(np.shape(myData))\n",
    "print(np.shape(myMods))\n",
    "print(np.shape(mySNRs))\n",
    "\n",
    "np.random.seed(0)"
   ]
  },
  {
   "cell_type": "markdown",
   "metadata": {
    "id": "q9SNHLWy8_Pk"
   },
   "source": [
    "### Remove AM-SSB-WC and AM-SSB_SC from the data set\n",
    "If we leave the AM-SSB-WC and AM-SSB-SC modulations in the data set we will see lower accuracy after quantizing the model to INT8. This is becuase we can more accurately quantize the floating point input data if it is over a smaller range with fewer outlyers as in seen in the other modulations \n",
    "\n",
    "In the next step we will remove these two modulations from the data set. If you want to leave these modulations in, you can skip the next step. Leaving these in will cause an additonal 5% accuracy drop after quantizing."
   ]
  },
  {
   "cell_type": "code",
   "execution_count": 6,
   "metadata": {
    "colab": {
     "base_uri": "https://localhost:8080/"
    },
    "executionInfo": {
     "elapsed": 1310,
     "status": "ok",
     "timestamp": 1647975098300,
     "user": {
      "displayName": "Matjaz Zibert",
      "photoUrl": "https://lh3.googleusercontent.com/a-/AOh14Gjxo8wQa943D739AYiNxos4RgExuqUIJbw1QcbN=s64",
      "userId": "01767470950860479027"
     },
     "user_tz": -60
    },
    "id": "xfC-VAt88_Pl",
    "outputId": "4fd48ac9-c2f0-44ca-b151-029d4c25b188"
   },
   "outputs": [
    {
     "name": "stdout",
     "output_type": "stream",
     "text": [
      "The number of classes is  22\n",
      "(146432, 1024, 2)\n",
      "(146432, 1)\n",
      "(146432, 22)\n",
      "Max value of the data set =  4.5126915\n",
      "Min value of the data set =  -4.457516\n",
      "Mean value of the data set =  0.0006922224\n",
      "Standard Deviation of the data set  0.7962071\n"
     ]
    }
   ],
   "source": [
    "#Skip this entire panel if you want to leave AM-SSB-WC and AM-SSB-SC modulations in the data set\n",
    "#myData = np.concatenate((myData[0:1810432], myData[2023424:2555904]),axis=0)\n",
    "#mySNRs = np.concatenate((mySNRs[0:1810432], mySNRs[2023424:2555904]),axis=0)\n",
    "#myMods = np.concatenate((myMods[0:1810432], myMods[2023424:2555904]),axis=0)\n",
    "\n",
    "myData = np.concatenate((myData[0:113152], myData[126464:159744]),axis=0)\n",
    "mySNRs = np.concatenate((mySNRs[0:113152], mySNRs[126464:159744]),axis=0)\n",
    "myMods = np.concatenate((myMods[0:113152], myMods[126464:159744]),axis=0)\n",
    "\n",
    "\n",
    "#re-onehot encode myMods to 22 from 24\n",
    "length = (np.size(myMods, axis=0))\n",
    "temp = np.concatenate((myMods[:,0:17],myMods[:,19:24]), axis=1)\n",
    "myMods = temp\n",
    "\n",
    "mods = [\n",
    "    'OOK',      '4ASK',      '8ASK',      'BPSK',   'QPSK',    '8PSK',\n",
    "    '16PSK',    '32PSK',     '16APSK',    '32APSK', '64APSK',  '128APSK',\n",
    "    '16QAM',    '32QAM',     '64QAM',     '128QAM', '256QAM',  \n",
    "    'AM-DSB-WC', 'AM-DSB-SC', 'FM', 'GMSK','OQPSK']\n",
    "\n",
    "num_classes = np.shape(mods)[0]\n",
    "print(\"The number of classes is \", num_classes)\n",
    "\n",
    "\n",
    "print(np.shape(myData))\n",
    "print(np.shape(mySNRs))\n",
    "print(np.shape(myMods))\n",
    "\n",
    "print (\"Max value of the data set = \", np.max(myData))\n",
    "print (\"Min value of the data set = \", np.min(myData))\n",
    "print (\"Mean value of the data set = \", np.mean(myData))\n",
    "print (\"Standard Deviation of the data set \", np.std(myData) )\n"
   ]
  },
  {
   "cell_type": "markdown",
   "metadata": {
    "id": "xIgaorRC8_Po"
   },
   "source": [
    "### Reshape RF data to 2D Matrix\n",
    "We will reshape both the I and Q data from a 1024 long vector to 2D 1024x1 matrix to be conpatabile with 2D convolution commands supported by the DPU"
   ]
  },
  {
   "cell_type": "code",
   "execution_count": 7,
   "metadata": {
    "id": "anvK6Ik88_Pp"
   },
   "outputs": [],
   "source": [
    "myDataRs = myData.reshape(myData.shape[0], 1024, 1, 2) "
   ]
  },
  {
   "cell_type": "markdown",
   "metadata": {
    "id": "H2RTT88K8_Pq"
   },
   "source": [
    "### Slpit Data into Trainnig and Validation set\n",
    "We will use 80% of the data for the Training set and 20% for the Test set. \n",
    "The random_state input to the the train_test_split function is set to 0, which means the 80/20 split will be done in a repeatable manner. "
   ]
  },
  {
   "cell_type": "code",
   "execution_count": 8,
   "metadata": {
    "colab": {
     "base_uri": "https://localhost:8080/"
    },
    "executionInfo": {
     "elapsed": 547,
     "status": "ok",
     "timestamp": 1647975419539,
     "user": {
      "displayName": "Matjaz Zibert",
      "photoUrl": "https://lh3.googleusercontent.com/a-/AOh14Gjxo8wQa943D739AYiNxos4RgExuqUIJbw1QcbN=s64",
      "userId": "01767470950860479027"
     },
     "user_tz": -60
    },
    "id": "En0je_7oymJg",
    "outputId": "42e8f9f0-71e0-472d-bd35-130bf794ad9e"
   },
   "outputs": [
    {
     "name": "stdout",
     "output_type": "stream",
     "text": [
      "(29287, 1024, 1, 2)\n",
      "(29287, 22)\n",
      "(29287, 1)\n",
      "(117145, 1024, 1, 2)\n",
      "(117145, 22)\n",
      "(117145, 1)\n"
     ]
    }
   ],
   "source": [
    "X_train ,X_test ,Y_train ,Y_test, Z_train, Z_test =train_test_split(myDataRs, myMods, mySNRs, test_size=0.2, random_state=0)\n",
    "print (np.shape(X_test))\n",
    "print (np.shape(Y_test))\n",
    "print (np.shape(Z_test))\n",
    "print (np.shape(X_train))\n",
    "print (np.shape(Y_train))\n",
    "print (np.shape(Z_train))\n",
    "del myData, myMods, mySNRs"
   ]
  },
  {
   "cell_type": "markdown",
   "metadata": {
    "id": "7ukBJTE-8_QL"
   },
   "source": [
    "## Vitis AI\n",
    "The Vitis-AI tools will be used the Quantize and Compile the model for accleration on the DPU. <br>\n",
    "Vitis-AI 1.3 now natively supports keras in TensorFlow2, and we can directly read in the .h5 model. "
   ]
  },
  {
   "cell_type": "markdown",
   "metadata": {
    "id": "2g6pEw9s8_QM"
   },
   "source": [
    "## Quantize Model to INT8\n",
    "The Vitis-AI Quantizer uses a  small set of unlabeled samples to analyze the distribution of the activations. We will use 1000 input samples from the test set. <br>\n",
    "\n",
    "The quantized.h5 model that is produced will be used as input to the Vitis-AI Quantizer"
   ]
  },
  {
   "cell_type": "code",
   "execution_count": 9,
   "metadata": {
    "id": "h8j6hsP_8_QM",
    "scrolled": false
   },
   "outputs": [
    {
     "name": "stdout",
     "output_type": "stream",
     "text": [
      "total 1500\r\n",
      "-rw-r--r-- 1 vitis-ai-user vitis-ai-group 1532920 Mar 22 16:33 rf-model-best.h5\r\n"
     ]
    },
    {
     "name": "stderr",
     "output_type": "stream",
     "text": [
      "2022-03-22 17:07:46.225299: W tensorflow/stream_executor/platform/default/dso_loader.cc:64] Could not load dynamic library 'libcuda.so.1'; dlerror: libcuda.so.1: cannot open shared object file: No such file or directory; LD_LIBRARY_PATH: /opt/vitis_ai/conda/envs/vitis-ai-tensorflow2/lib/python3.7/site-packages/cv2/../../lib64:/opt/xilinx/xrt/lib:/usr/lib:/usr/lib/x86_64-linux-gnu:/usr/local/lib:/opt/vitis_ai/conda/envs/vitis-ai-tensorflow/lib\n",
      "2022-03-22 17:07:46.225332: W tensorflow/stream_executor/cuda/cuda_driver.cc:269] failed call to cuInit: UNKNOWN ERROR (303)\n",
      "2022-03-22 17:07:46.225370: I tensorflow/stream_executor/cuda/cuda_diagnostics.cc:163] no NVIDIA GPU device is present: /dev/nvidia0 does not exist\n",
      "/opt/vitis_ai/conda/envs/vitis-ai-tensorflow2/lib/python3.7/site-packages/keras/utils/generic_utils.py:497: CustomMaskWarning: Custom mask layers require a config and must override get_config. When loading, the custom mask layer must be passed to the custom_objects argument.\n",
      "  category=CustomMaskWarning)\n"
     ]
    },
    {
     "name": "stdout",
     "output_type": "stream",
     "text": [
      "[VAI INFO] Update custom_layer_type: []\n",
      "[VAI INFO] Start CrossLayerEqualization...\n",
      "10/10 [==============================] - 5s 584ms/step\n",
      "[VAI INFO] CrossLayerEqualization Done.\n"
     ]
    },
    {
     "name": "stderr",
     "output_type": "stream",
     "text": [
      "2022-03-22 17:07:55.676364: I tensorflow/compiler/mlir/mlir_graph_optimization_pass.cc:185] None of the MLIR Optimization Passes are enabled (registered 2)\n"
     ]
    },
    {
     "name": "stdout",
     "output_type": "stream",
     "text": [
      "[VAI INFO] Start Quantize Calibration...\n",
      "32/32 [==============================] - 27s 390ms/step\n",
      "[VAI INFO] Quantize Calibration Done.\n",
      "[VAI INFO] Start Post-Quantize Adjustment...\n",
      "[VAI INFO] Post-Quantize Adjustment Done.\n",
      "[VAI INFO] Quantization Finished.\n",
      "WARNING:tensorflow:Compiled the loaded model, but the compiled metrics have yet to be built. `model.compile_metrics` will be empty until you train or evaluate the model.\n",
      "total 888\n",
      "-rw-r--r-- 1 vitis-ai-user vitis-ai-group 907056 Mar 22 17:08 quantized_model.h5\n"
     ]
    }
   ],
   "source": [
    "# reload the model in case it was closed\n",
    "!ls -l fp_model/\n",
    "model = tf.keras.models.load_model('fp_model/rf-model-best.h5')\n",
    " \n",
    "from tensorflow_model_optimization.quantization.keras import vitis_quantize\n",
    "quantizer = vitis_quantize.VitisQuantizer(model)\n",
    "quantized_model = quantizer.quantize_model(calib_dataset = X_test[1:1000])\n",
    "\n",
    "# Save the model\n",
    "!mkdir -p quantize_results\n",
    "quantized_model.save('quantize_results/quantized_model.h5')\n",
    "!ls -l quantize_results"
   ]
  },
  {
   "cell_type": "markdown",
   "metadata": {
    "id": "Lf_fc1Ng8_QN"
   },
   "source": [
    "### Load and Compile Model for Evaluation\n",
    "We can now load and recompile the INT8 model and run evaluations to compare with the floating point model"
   ]
  },
  {
   "cell_type": "markdown",
   "metadata": {
    "id": "d4Qn7X5u8_QN"
   },
   "source": [
    "### Evalute  Model INT8 Performance"
   ]
  },
  {
   "cell_type": "code",
   "execution_count": 10,
   "metadata": {
    "id": "g3B8VnGO8_QO",
    "scrolled": true
   },
   "outputs": [
    {
     "name": "stdout",
     "output_type": "stream",
     "text": [
      "WARNING:tensorflow:No training configuration found in the save file, so the model was *not* compiled. Compile it manually.\n",
      "[1.9708930253982544, 0.573940634727478]\n"
     ]
    }
   ],
   "source": [
    "# load quantized model\n",
    "from tensorflow_model_optimization.quantization.keras import vitis_quantize\n",
    "with vitis_quantize.quantize_scope():\n",
    "  q_model = tf.keras.models.load_model('quantize_results/quantized_model.h5')\n",
    "\n",
    "q_model.compile(loss='categorical_crossentropy', metrics=[\"accuracy\"])\n",
    "\n",
    "score = q_model.evaluate(X_test, Y_test,  verbose=0, batch_size=1024)\n",
    "print(score)"
   ]
  },
  {
   "cell_type": "markdown",
   "metadata": {
    "id": "rGGpBjpD8_QP"
   },
   "source": [
    "The Overall Top-1 score has gone down by about 3% due to quantization"
   ]
  },
  {
   "cell_type": "markdown",
   "metadata": {
    "id": "uswFKSAZ8_QQ"
   },
   "source": [
    "### Classification Report for INT8 Model"
   ]
  },
  {
   "cell_type": "code",
   "execution_count": 11,
   "metadata": {
    "id": "hwmcpj_P8_QQ",
    "scrolled": true
   },
   "outputs": [
    {
     "name": "stdout",
     "output_type": "stream",
     "text": [
      "              precision    recall  f1-score   support\n",
      "\n",
      "         OOK       0.97      1.00      0.98      1331\n",
      "        4ASK       0.34      0.86      0.49      1340\n",
      "        8ASK       0.88      1.00      0.93      1330\n",
      "        BPSK       0.97      1.00      0.99      1328\n",
      "        QPSK       0.99      0.92      0.96      1344\n",
      "        8PSK       0.32      0.80      0.45      1297\n",
      "       16PSK       0.00      0.00      0.00      1299\n",
      "       32PSK       0.23      0.01      0.01      1293\n",
      "      16APSK       0.82      0.91      0.87      1297\n",
      "      32APSK       0.33      0.92      0.49      1289\n",
      "      64APSK       0.02      0.00      0.00      1337\n",
      "     128APSK       0.12      0.21      0.15      1321\n",
      "       16QAM       0.28      0.09      0.14      1401\n",
      "       32QAM       0.57      0.11      0.19      1312\n",
      "       64QAM       0.38      0.14      0.21      1301\n",
      "      128QAM       0.24      0.00      0.01      1365\n",
      "      256QAM       0.17      0.20      0.19      1359\n",
      "   AM-DSB-WC       0.72      0.87      0.79      1320\n",
      "   AM-DSB-SC       0.81      0.65      0.72      1338\n",
      "          FM       1.00      1.00      1.00      1396\n",
      "        GMSK       1.00      0.94      0.97      1321\n",
      "       OQPSK       0.91      0.98      0.94      1368\n",
      "\n",
      "    accuracy                           0.57     29287\n",
      "   macro avg       0.55      0.57      0.52     29287\n",
      "weighted avg       0.55      0.57      0.52     29287\n",
      "\n"
     ]
    }
   ],
   "source": [
    "batch_size = 128\n",
    "Y_pred = q_model.predict(X_test,batch_size=batch_size)\n",
    "y_pred = np.argmax(Y_pred, axis = 1)\n",
    "y_actual = np.argmax(Y_test, axis = 1)\n",
    "classificationreport_int8 = classification_report(y_actual,y_pred, target_names=mods)\n",
    "print(classificationreport_int8)"
   ]
  },
  {
   "cell_type": "markdown",
   "metadata": {
    "id": "CGpAaCT28_QR"
   },
   "source": [
    "### Accuracy vs SNR for INT8 Model"
   ]
  },
  {
   "cell_type": "code",
   "execution_count": 12,
   "metadata": {
    "id": "VHVLgSuy8_QR",
    "scrolled": false
   },
   "outputs": [
    {
     "name": "stderr",
     "output_type": "stream",
     "text": [
      "  7% (1 of 13) |#                        | Elapsed Time: 0:00:09 ETA:   0:01:51"
     ]
    },
    {
     "name": "stdout",
     "output_type": "stream",
     "text": [
      "SNR:  6 accuracy 0.43244485294117646\n"
     ]
    },
    {
     "name": "stderr",
     "output_type": "stream",
     "text": [
      "\r",
      " 15% (2 of 13) |###                      | Elapsed Time: 0:00:16 ETA:   0:01:20"
     ]
    },
    {
     "name": "stdout",
     "output_type": "stream",
     "text": [
      "SNR:  8 accuracy 0.5372242647058824\n"
     ]
    },
    {
     "name": "stderr",
     "output_type": "stream",
     "text": [
      "\r",
      " 23% (3 of 13) |#####                    | Elapsed Time: 0:00:23 ETA:   0:01:13"
     ]
    },
    {
     "name": "stdout",
     "output_type": "stream",
     "text": [
      "SNR:  10 accuracy 0.5721507352941176\n"
     ]
    },
    {
     "name": "stderr",
     "output_type": "stream",
     "text": [
      "\r",
      " 30% (4 of 13) |#######                  | Elapsed Time: 0:00:31 ETA:   0:01:06"
     ]
    },
    {
     "name": "stdout",
     "output_type": "stream",
     "text": [
      "SNR:  12 accuracy 0.5914522058823529\n"
     ]
    },
    {
     "name": "stderr",
     "output_type": "stream",
     "text": [
      "\r",
      " 38% (5 of 13) |#########                | Elapsed Time: 0:00:38 ETA:   0:00:58"
     ]
    },
    {
     "name": "stdout",
     "output_type": "stream",
     "text": [
      "SNR:  14 accuracy 0.5790441176470589\n"
     ]
    },
    {
     "name": "stderr",
     "output_type": "stream",
     "text": [
      "\r",
      " 46% (6 of 13) |###########              | Elapsed Time: 0:00:45 ETA:   0:00:51"
     ]
    },
    {
     "name": "stdout",
     "output_type": "stream",
     "text": [
      "SNR:  16 accuracy 0.5942095588235294\n"
     ]
    },
    {
     "name": "stderr",
     "output_type": "stream",
     "text": [
      "\r",
      " 53% (7 of 13) |#############            | Elapsed Time: 0:00:53 ETA:   0:00:43"
     ]
    },
    {
     "name": "stdout",
     "output_type": "stream",
     "text": [
      "SNR:  18 accuracy 0.5969669117647058\n"
     ]
    },
    {
     "name": "stderr",
     "output_type": "stream",
     "text": [
      "\r",
      " 61% (8 of 13) |###############          | Elapsed Time: 0:01:00 ETA:   0:00:36"
     ]
    },
    {
     "name": "stdout",
     "output_type": "stream",
     "text": [
      "SNR:  20 accuracy 0.59375\n"
     ]
    },
    {
     "name": "stderr",
     "output_type": "stream",
     "text": [
      "\r",
      " 69% (9 of 13) |#################        | Elapsed Time: 0:01:07 ETA:   0:00:29"
     ]
    },
    {
     "name": "stdout",
     "output_type": "stream",
     "text": [
      "SNR:  22 accuracy 0.59375\n"
     ]
    },
    {
     "name": "stderr",
     "output_type": "stream",
     "text": [
      "\r",
      " 76% (10 of 13) |##################      | Elapsed Time: 0:01:15 ETA:   0:00:22"
     ]
    },
    {
     "name": "stdout",
     "output_type": "stream",
     "text": [
      "SNR:  24 accuracy 0.5854779411764706\n"
     ]
    },
    {
     "name": "stderr",
     "output_type": "stream",
     "text": [
      "\r",
      " 84% (11 of 13) |####################    | Elapsed Time: 0:01:22 ETA:   0:00:14"
     ]
    },
    {
     "name": "stdout",
     "output_type": "stream",
     "text": [
      "SNR:  26 accuracy 0.5863970588235294\n"
     ]
    },
    {
     "name": "stderr",
     "output_type": "stream",
     "text": [
      "\r",
      " 92% (12 of 13) |######################  | Elapsed Time: 0:01:30 ETA:   0:00:07"
     ]
    },
    {
     "name": "stdout",
     "output_type": "stream",
     "text": [
      "SNR:  28 accuracy 0.5942095588235294\n"
     ]
    },
    {
     "name": "stderr",
     "output_type": "stream",
     "text": [
      "100% (13 of 13) |########################| Elapsed Time: 0:01:37 Time:  0:01:37\n"
     ]
    },
    {
     "name": "stdout",
     "output_type": "stream",
     "text": [
      "SNR:  30 accuracy 0.6024816176470589\n"
     ]
    }
   ],
   "source": [
    "batchsize = 128\n",
    "progress = ProgressBar()\n",
    "snrlist = np.unique(Z_test)\n",
    "acc_snr_arr = []\n",
    "\n",
    "# interate over SNRs\n",
    "for snr in progress(snrlist):\n",
    "    acc_arr = []\n",
    "    i_SNR = np.where(Z_test==snr)\n",
    "    X_SNR = X_test[i_SNR[0],:,:]\n",
    "    Y_SNR = Y_test[i_SNR[0],:]\n",
    "    X_SNR_len = np.shape(X_SNR)[0]\n",
    "    total_batches = int(X_SNR_len/batchsize)\n",
    "    \n",
    "    for i in (range(0, total_batches)):\n",
    "        x_batch, y_batch = X_SNR[i*batchsize:i*batchsize+batchsize], Y_SNR[i*batchsize:i*batchsize+batchsize]\n",
    "        \n",
    "        # model prediction\n",
    "        pred = q_model.predict(x_batch)\n",
    "        \n",
    "        #Pediction values are 0-24, corresponding to indices representing different modulation types\n",
    "        pred_ind = np.argmax(pred, axis=1)\n",
    "        expected_ind = np.argmax(y_batch, axis=1)\n",
    "        matches  = sum(np.equal(pred_ind, expected_ind))\n",
    "        acc      = matches/batchsize\n",
    "        acc_arr.append(acc)\n",
    "\n",
    "    # Average the per-batch accuracy values\n",
    "    accuracy = np.mean(acc_arr)\n",
    "    acc_snr_arr.append(accuracy)\n",
    "    print(\"SNR: \", snr, \"accuracy\", accuracy)"
   ]
  },
  {
   "cell_type": "code",
   "execution_count": 13,
   "metadata": {
    "id": "TpOrwUdH8_QT"
   },
   "outputs": [
    {
     "data": {
      "text/plain": [
       "<Figure size 72x72 with 0 Axes>"
      ]
     },
     "metadata": {},
     "output_type": "display_data"
    },
    {
     "data": {
      "image/png": "[encoded data removed]",
      "text/plain": [
       "<Figure size 720x576 with 1 Axes>"
      ]
     },
     "metadata": {
      "needs_background": "light"
     },
     "output_type": "display_data"
    }
   ],
   "source": [
    "plt.figure(figsize=(1,1))\n",
    "plt.show()\n",
    "fig= plt.figure(figsize=(10,8))\n",
    "plt.plot(snrlist, acc_snr_arr, 'bo-', label='accuracy')\n",
    "plt.ylabel('Accuracy')\n",
    "plt.xlabel('SNR')\n",
    "plt.title(\"Accuracy vs, SNR for INT8 Model\")\n",
    "plt.legend()\n",
    "plt.axis([-22, 32, 0, 1.0])\n",
    "plt.grid()"
   ]
  },
  {
   "cell_type": "markdown",
   "metadata": {
    "id": "dtahR9uO8_QU"
   },
   "source": [
    "The Accuracy vs SNR looks very similar to the floating point model, expect the accuracy is down by about 5% for higher SNRs from the floating point model"
   ]
  },
  {
   "cell_type": "markdown",
   "metadata": {
    "id": "OhcMvpqZ8_QZ"
   },
   "source": [
    "## Compile Model for DPU\n",
    "The Vitis-AI compiler reads in the quantized model and generates an xmodel file which the instruction set for the Xilinx Deep Learning Processor (DPU). The arhictecture option (-a) is used to specify a json file which indicates which hw target the DPU is being compiled for."
   ]
  },
  {
   "cell_type": "code",
   "execution_count": 14,
   "metadata": {
    "id": "4yb7nLqR8_QZ"
   },
   "outputs": [
    {
     "name": "stdout",
     "output_type": "stream",
     "text": [
      "**************************************************\n",
      "* VITIS_AI Compilation - Xilinx Inc.\n",
      "**************************************************\n",
      "[INFO] Namespace(batchsize=1, inputs_shape=None, layout='NHWC', model_files=['quantize_results/quantized_model.h5'], model_type='tensorflow2', named_inputs_shape=None, out_filename='/tmp/rfClassification_org.xmodel', proto=None)\n",
      "[INFO] tensorflow2 model: /workspace/quantize_results/quantized_model.h5\n",
      "[INFO] keras version: 2.6.0\n",
      "[INFO] Tensorflow Keras model type: functional\n",
      "[INFO] parse raw model     :100%|█| 66/66 [00:00<00:00, 14924.74it/s]           \n",
      "[INFO] infer shape (NHWC)  :100%|█| 110/110 [00:00<00:00, 17555.40it/s]         \n",
      "[INFO] perform level-0 opt :100%|█| 2/2 [00:00<00:00, 53.88it/s]                \n",
      "[INFO] perform level-1 opt :100%|█| 2/2 [00:00<00:00, 219.76it/s]               \n",
      "[INFO] infer shape (NHWC)  :100%|█| 112/112 [00:00<00:00, 15769.65it/s]         \n",
      "[INFO] generate xmodel     :100%|█| 112/112 [00:00<00:00, 2301.74it/s]          \n",
      "[INFO] dump xmodel: /tmp/rfClassification_org.xmodel\n",
      "[UNILOG][INFO] Compile mode: dpu\n",
      "[UNILOG][INFO] Debug mode: function\n",
      "[UNILOG][INFO] Target architecture: DPUCZDX8G_ISA0_B1152_0100002062010103\n",
      "[UNILOG][INFO] Graph name: model_1, with op num: 206\n",
      "[UNILOG][INFO] Begin to compile...\n",
      "[UNILOG][INFO] Total device subgraph number 3, DPU subgraph number 1\n",
      "[UNILOG][INFO] Compile done.\n",
      "[UNILOG][INFO] The meta json is saved to \"/workspace/vai_c_output/meta.json\"\n",
      "[UNILOG][INFO] The compiled xmodel is saved to \"/workspace/vai_c_output/rfClassification.xmodel\"\n",
      "[UNILOG][INFO] The compiled xmodel's md5sum is 7b5cb1a8d0d08ccea94ca186221f66b4, and has been saved to \"/workspace/vai_c_output/md5sum.txt\"\n"
     ]
    }
   ],
   "source": [
    "#For AXU2CGB\n",
    "!vai_c_tensorflow2 -m quantize_results/quantized_model.h5 -a arch_b1152.json -o vai_c_output -n rfClassification"
   ]
  },
  {
   "cell_type": "markdown",
   "metadata": {
    "id": "WR59-0J68_Qa"
   },
   "source": [
    "## Generate Graph Visualization with xir tool.\n",
    "You will see a compiler message about the number of  subgraphs:\n",
    "Total device subgraph number 3, DPU subgraph number 1 <br>\n",
    "This means that are 3 subgraphs created, 1 for the input layer, 1 for for everything up the softmax layer (which runs on the DPU), and one for the softmax. <br>\n",
    "\n",
    "The softmax layer can  optionally be acclerated in programmable logic, however in this tutorial we will implement the softmax layer on the CPU.\n",
    "\n",
    "You can use the the xir command generate a .png file to visulize the graph layers."
   ]
  },
  {
   "cell_type": "code",
   "execution_count": 15,
   "metadata": {
    "id": "dy0DVGhy8_Qa"
   },
   "outputs": [],
   "source": [
    "!xir png /workspace/vai_c_output/rfClassification.xmodel xmodel.png"
   ]
  },
  {
   "cell_type": "markdown",
   "metadata": {
    "id": "vFwMKNkk8_Qa"
   },
   "source": [
    "### Write out  samples  of Test Data to be used later for HW testing\n",
    "The python function we will run in the target board will read in these numpy files containing the RF data, class, and SNR."
   ]
  },
  {
   "cell_type": "code",
   "execution_count": 16,
   "metadata": {
    "id": "jY8BXB4_8_Qb"
   },
   "outputs": [],
   "source": [
    "np.save('/workspace/rf_input.npy', X_test[0:1000,:,:])\n",
    "np.save('/workspace/rf_classes.npy', Y_test[0:1000])\n",
    "np.save('/workspace/rf_snrs.npy', Z_test[0:1000])"
   ]
  },
  {
   "cell_type": "markdown",
   "metadata": {
    "id": "1RHjntCP8_Qb"
   },
   "source": [
    "Now that a dpu xmodel file has been created you are ready to run on target board. You will need to copy the above 3 files, and the xmodel file from the compiler to your target board.\n",
    "\n",
    "You can close this notebook by entering CtrlC at the console, close the docker container by entering CtrlD, and the proceed with the Tutorial readme instructions."
   ]
  }
 ],
 "metadata": {
  "accelerator": "GPU",
  "colab": {
   "collapsed_sections": [],
   "name": "rf_classification-Vitis-AI.ipynb",
   "provenance": [
    {
     "file_id": "1mp0jK0jC4dFiOQdp2eQY9iyMrLx6FBVf",
     "timestamp": 1647983798826
    },
    {
     "file_id": "1Z8TTch9di4LxLyQN9yDALaguTRILSg6j",
     "timestamp": 1647956613236
    }
   ]
  },
  "kernelspec": {
   "display_name": "Python 3 (ipykernel)",
   "language": "python",
   "name": "python3"
  },
  "language_info": {
   "codemirror_mode": {
    "name": "ipython",
    "version": 3
   },
   "file_extension": ".py",
   "mimetype": "text/x-python",
   "name": "python",
   "nbconvert_exporter": "python",
   "pygments_lexer": "ipython3",
   "version": "3.7.12"
  }
 },
 "nbformat": 4,
 "nbformat_minor": 1
}
